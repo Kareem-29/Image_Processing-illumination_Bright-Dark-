{
 "cells": [
  {
   "cell_type": "code",
   "execution_count": 23,
   "id": "3f98f22a",
   "metadata": {},
   "outputs": [],
   "source": [
    "from PIL import Image, ImageEnhance\n",
    "import imageio\n",
    "import numpy as np\n",
    "import cv2"
   ]
  },
  {
   "cell_type": "code",
   "execution_count": 53,
   "id": "6f12af04",
   "metadata": {},
   "outputs": [],
   "source": [
    "#read the image\n",
    "path= \"9.jpeg\"\n",
    "#img = Image.open(path)\n",
    "#img = img.load()\n",
    "img = cv2.imread(path)\n",
    "#to convert to grayscale\n",
    "gray = img\n",
    "gray = cv2.cvtColor(gray, cv2.COLOR_BGR2GRAY)\n",
    "\n",
    "gray2 = Image.fromarray(np.uint8(gray))\n",
    "#img = np.asarray(gray)"
   ]
  },
  {
   "cell_type": "code",
   "execution_count": 60,
   "id": "f507ad5a",
   "metadata": {},
   "outputs": [],
   "source": [
    "def img_estim(image, thrshld):\n",
    "    flag = 0\n",
    "    enhancer = ImageEnhance.Brightness(image)\n",
    "    is_light = np.mean(image)\n",
    "    if (is_light > thrshld):\n",
    "        factor = 0.5 #darkens the image\n",
    "        im_output_dark = enhancer.enhance(factor)\n",
    "        #im_output_dark.show(im_output_dark)\n",
    "        im_output_dark.save('picDr.png')\n",
    "        print('Darker')\n",
    "        #img.save('normal-image.png')\n",
    "        \n",
    "        #recursion with the updated image\n",
    "        img_estim(Image.open(\"picDr.png\"), thrshld)\n",
    "\n",
    "    elif (is_light >= 127 and is_light <= 170):\n",
    "        flag = 1\n",
    "        image.save('normal-image.png')\n",
    "        new= Image.open('normal-image.png')\n",
    "        print('Normal')\n",
    "        \n",
    "\n",
    "    else:\n",
    "        #img_bright(img)\n",
    "        factor = 1.5 #brightens the image\n",
    "        im_output_bright = enhancer.enhance(factor)\n",
    "        #im_output_bright.show(im_output_bright)\n",
    "        im_output_bright.save('picBr.png')\n",
    "        print('brighter')\n",
    "        \n",
    "        #recursion with the updated image\n",
    "        img_estim(Image.open(\"picBr.png\"), thrshld)"
   ]
  },
  {
   "cell_type": "code",
   "execution_count": 61,
   "id": "71534220",
   "metadata": {},
   "outputs": [
    {
     "name": "stdout",
     "output_type": "stream",
     "text": [
      "brighter\n",
      "Darker\n",
      "brighter\n",
      "Normal\n"
     ]
    }
   ],
   "source": [
    "img_estim(gray2, 170)"
   ]
  },
  {
   "cell_type": "code",
   "execution_count": 62,
   "id": "0e66448b",
   "metadata": {},
   "outputs": [
    {
     "data": {
      "text/plain": [
       "132.40801337027753"
      ]
     },
     "execution_count": 62,
     "metadata": {},
     "output_type": "execute_result"
    }
   ],
   "source": [
    "np.mean(Image.open('normal-image.png'))"
   ]
  },
  {
   "cell_type": "code",
   "execution_count": 59,
   "id": "8fb497a3",
   "metadata": {},
   "outputs": [
    {
     "data": {
      "text/plain": [
       "122.73433170602982"
      ]
     },
     "execution_count": 59,
     "metadata": {},
     "output_type": "execute_result"
    }
   ],
   "source": [
    "np.mean(gray2)"
   ]
  },
  {
   "cell_type": "code",
   "execution_count": 396,
   "id": "53fcdefd",
   "metadata": {},
   "outputs": [],
   "source": [
    "image1 = cv2.imread(path)\n",
    "window_name1 = 'image_og'\n",
    "\n",
    "image2= cv2.imread('normal-image.png')\n",
    "window_name2 = 'image_normal'\n",
    "\n",
    "cv2.imshow(window_name1, image1)\n",
    "cv2.imshow(window_name2, image2)\n",
    "\n",
    "cv2.waitKey(0)\n",
    "\n",
    "cv2.destroyAllWindows()"
   ]
  },
  {
   "cell_type": "code",
   "execution_count": 38,
   "id": "a38c3145",
   "metadata": {},
   "outputs": [],
   "source": [
    "cv2.imshow('img',gray)\n",
    "cv2.waitKey(0)\n",
    "\n",
    "cv2.destroyAllWindows()"
   ]
  },
  {
   "cell_type": "code",
   "execution_count": null,
   "id": "fb67d990",
   "metadata": {},
   "outputs": [],
   "source": []
  }
 ],
 "metadata": {
  "kernelspec": {
   "display_name": "Python 3",
   "language": "python",
   "name": "python3"
  },
  "language_info": {
   "codemirror_mode": {
    "name": "ipython",
    "version": 3
   },
   "file_extension": ".py",
   "mimetype": "text/x-python",
   "name": "python",
   "nbconvert_exporter": "python",
   "pygments_lexer": "ipython3",
   "version": "3.8.8"
  }
 },
 "nbformat": 4,
 "nbformat_minor": 5
}
